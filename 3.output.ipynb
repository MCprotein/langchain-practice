{
 "cells": [
  {
   "cell_type": "code",
   "execution_count": 1,
   "id": "788236b8",
   "metadata": {},
   "outputs": [
    {
     "data": {
      "text/plain": [
       "AIMessage(content='The capital of France is Paris.', additional_kwargs={}, response_metadata={'model': 'llama3.2:1b', 'created_at': '2025-07-30T06:14:28.089657Z', 'done': True, 'done_reason': 'stop', 'total_duration': 1710580542, 'load_duration': 1283963375, 'prompt_eval_count': 32, 'prompt_eval_duration': 335386250, 'eval_count': 8, 'eval_duration': 89864584, 'model_name': 'llama3.2:1b'}, id='run--1966edca-2aaf-4d94-bf14-a4f51991c28f-0', usage_metadata={'input_tokens': 32, 'output_tokens': 8, 'total_tokens': 40})"
      ]
     },
     "execution_count": 1,
     "metadata": {},
     "output_type": "execute_result"
    }
   ],
   "source": [
    "from langchain_ollama import ChatOllama\n",
    "\n",
    "llm = ChatOllama(model=\"llama3.2:1b\")\n",
    "llm.invoke(\"What is the capital of France?\")\n",
    "# llm.invoke(0)\n"
   ]
  },
  {
   "cell_type": "code",
   "execution_count": 8,
   "id": "48d5bdea",
   "metadata": {},
   "outputs": [
    {
     "name": "stdout",
     "output_type": "stream",
     "text": [
      "content='Paris.' additional_kwargs={} response_metadata={'model': 'llama3.2:1b', 'created_at': '2025-07-30T06:20:06.797157Z', 'done': True, 'done_reason': 'stop', 'total_duration': 443494917, 'load_duration': 38447334, 'prompt_eval_count': 39, 'prompt_eval_duration': 381937000, 'eval_count': 3, 'eval_duration': 22493625, 'model_name': 'llama3.2:1b'} id='run--25a3f38c-87bb-4afb-8b74-910499047165-0' usage_metadata={'input_tokens': 39, 'output_tokens': 3, 'total_tokens': 42}\n",
      "Paris.\n"
     ]
    }
   ],
   "source": [
    "from langchain_core.prompts import PromptTemplate\n",
    "from langchain_core.output_parsers import StrOutputParser\n",
    "\n",
    "prompt_template = PromptTemplate(\n",
    "    template=\"What is the capital of {country}? Return the name of the city only\",\n",
    "    input_variables=[\"country\"],\n",
    ")\n",
    "\n",
    "# PromptValue 타입\n",
    "prompt = prompt_template.invoke({\"country\":\"France\"})\n",
    "\n",
    "ai_message = llm.invoke(prompt)\n",
    "print(ai_message)\n",
    "\n",
    "output_parser = StrOutputParser()\n",
    "answer = output_parser.invoke(llm.invoke(prompt))\n",
    "print(answer)"
   ]
  },
  {
   "cell_type": "code",
   "execution_count": 4,
   "id": "114b8efd",
   "metadata": {},
   "outputs": [
    {
     "data": {
      "text/plain": [
       "AIMessage(content='The capital of France is Paris.', additional_kwargs={}, response_metadata={'model': 'llama3.2:1b', 'created_at': '2025-07-30T06:18:45.822847Z', 'done': True, 'done_reason': 'stop', 'total_duration': 432508542, 'load_duration': 51824875, 'prompt_eval_count': 32, 'prompt_eval_duration': 303368667, 'eval_count': 8, 'eval_duration': 76719250, 'model_name': 'llama3.2:1b'}, id='run--de086c68-b7eb-4706-9a7e-6d9966ca80b8-0', usage_metadata={'input_tokens': 32, 'output_tokens': 8, 'total_tokens': 40})"
      ]
     },
     "execution_count": 4,
     "metadata": {},
     "output_type": "execute_result"
    }
   ],
   "source": [
    "ai_message"
   ]
  },
  {
   "cell_type": "code",
   "execution_count": null,
   "id": "0b9f57a7",
   "metadata": {},
   "outputs": [],
   "source": [
    "from pydantic import BaseModel, Field\n",
    "\n",
    "# json 형식을 응답받기를 원한다면 사용\n",
    "class CountryDetail(BaseModel):\n",
    "    capital: str = Field(description=\"The capital of the country\")\n",
    "    population: int = Field(description=\"The population of the country\")\n",
    "    language: str = Field(description=\"The language of the country\")\n",
    "    currency: str = Field(description=\"The currency of the country\")\n",
    "\n",
    "structured_llm = llm.with_structured_output(CountryDetail)"
   ]
  },
  {
   "cell_type": "code",
   "execution_count": 28,
   "id": "1117fb11",
   "metadata": {},
   "outputs": [],
   "source": [
    "from langchain_core.output_parsers import JsonOutputParser\n",
    "\n",
    "country_detail_prompt = PromptTemplate(\n",
    "    template=\"\"\"Give following information about {country}:\n",
    "    - Capital\n",
    "    - Population\n",
    "    - Language\n",
    "    - Currency\n",
    "\n",
    "    return it is JSON format, and return the JSON dictionary only\n",
    "    \"\"\",\n",
    "    input_variables=[\"country\"],\n",
    ")\n",
    "\n",
    "prompt = country_detail_prompt.invoke({\"country\": \"France\"})\n",
    "\n",
    "# llm.invoke 결과가 str이고, 결과 포맷이 그때그때 달라서 사용할 수 없음(간헐적으로 에러 발생)\n",
    "# output_parser = JsonOutputParser()\n",
    "# json_ai_message = llm.invoke(country_detail_prompt.invoke({\"country\": \"France\"}))\n",
    "# output_parser.invoke(json_ai_message)\n",
    "\n",
    "json_ai_message = structured_llm.invoke(country_detail_prompt.invoke({\"country\": \"France\"}))"
   ]
  },
  {
   "cell_type": "code",
   "execution_count": 32,
   "id": "f37c88e4",
   "metadata": {},
   "outputs": [
    {
     "data": {
      "text/plain": [
       "'Paris'"
      ]
     },
     "execution_count": 32,
     "metadata": {},
     "output_type": "execute_result"
    }
   ],
   "source": [
    "json_ai_message\n",
    "# str 타입임\n",
    "# type(json_ai_message.content)\n",
    "\n",
    "# json\n",
    "json_ai_message.model_dump()['capital']"
   ]
  }
 ],
 "metadata": {
  "kernelspec": {
   "display_name": "langchain-practice",
   "language": "python",
   "name": "langchain-practice"
  },
  "language_info": {
   "codemirror_mode": {
    "name": "ipython",
    "version": 3
   },
   "file_extension": ".py",
   "mimetype": "text/x-python",
   "name": "python",
   "nbconvert_exporter": "python",
   "pygments_lexer": "ipython3",
   "version": "3.13.5"
  }
 },
 "nbformat": 4,
 "nbformat_minor": 5
}
