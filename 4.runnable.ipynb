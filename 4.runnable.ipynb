{
 "cells": [
  {
   "cell_type": "code",
   "execution_count": 1,
   "id": "788236b8",
   "metadata": {},
   "outputs": [
    {
     "data": {
      "text/plain": [
       "AIMessage(content='The capital of France is Paris.', additional_kwargs={}, response_metadata={'model': 'llama3.2:1b', 'created_at': '2025-07-30T06:41:58.152453Z', 'done': True, 'done_reason': 'stop', 'total_duration': 1954728958, 'load_duration': 1545346583, 'prompt_eval_count': 32, 'prompt_eval_duration': 316385542, 'eval_count': 8, 'eval_duration': 85490500, 'model_name': 'llama3.2:1b'}, id='run--fa6d5130-27de-4e1f-98a4-b410bafe67bc-0', usage_metadata={'input_tokens': 32, 'output_tokens': 8, 'total_tokens': 40})"
      ]
     },
     "execution_count": 1,
     "metadata": {},
     "output_type": "execute_result"
    }
   ],
   "source": [
    "from langchain_ollama import ChatOllama\n",
    "\n",
    "llm = ChatOllama(model=\"llama3.2:1b\")\n",
    "llm.invoke(\"What is the capital of France?\")\n",
    "# llm.invoke(0)\n"
   ]
  },
  {
   "cell_type": "code",
   "execution_count": null,
   "id": "48d5bdea",
   "metadata": {},
   "outputs": [
    {
     "name": "stdout",
     "output_type": "stream",
     "text": [
      "content='Paris' additional_kwargs={} response_metadata={'model': 'llama3.2:1b', 'created_at': '2025-07-30T06:48:12.628356Z', 'done': True, 'done_reason': 'stop', 'total_duration': 365869042, 'load_duration': 41949584, 'prompt_eval_count': 39, 'prompt_eval_duration': 311342375, 'eval_count': 2, 'eval_duration': 12004333, 'model_name': 'llama3.2:1b'} id='run--91f1c41d-dd75-44d8-9312-868012ed4c4e-0' usage_metadata={'input_tokens': 39, 'output_tokens': 2, 'total_tokens': 41}\n",
      "Paris.\n"
     ]
    }
   ],
   "source": [
    "from langchain_core.prompts import PromptTemplate\n",
    "from langchain_core.output_parsers import StrOutputParser\n",
    "\n",
    "capital_template = PromptTemplate(\n",
    "    template=\"What is the capital of {country}? Return the name of the city only\",\n",
    "    input_variables=[\"country\"],\n",
    ")\n",
    "\n",
    "# PromptValue 타입\n",
    "prompt = capital_template.invoke({\"country\": \"France\"})\n",
    "\n",
    "ai_message = llm.invoke(prompt)\n",
    "print(ai_message)\n",
    "\n",
    "output_parser = StrOutputParser()\n",
    "answer = output_parser.invoke(llm.invoke(prompt))\n",
    "print(answer)"
   ]
  },
  {
   "cell_type": "code",
   "execution_count": null,
   "id": "1260c163",
   "metadata": {},
   "outputs": [],
   "source": [
    "capital_chain = capital_template | llm | output_parser"
   ]
  },
  {
   "cell_type": "code",
   "execution_count": 13,
   "id": "3ec32510",
   "metadata": {},
   "outputs": [
    {
     "data": {
      "text/plain": [
       "'Paris.'"
      ]
     },
     "execution_count": 13,
     "metadata": {},
     "output_type": "execute_result"
    }
   ],
   "source": [
    "capital_chain.invoke({\"country\": \"France\"})"
   ]
  },
  {
   "cell_type": "code",
   "execution_count": null,
   "id": "eee6c5df",
   "metadata": {},
   "outputs": [
    {
     "data": {
      "text/plain": [
       "'Italy'"
      ]
     },
     "execution_count": 38,
     "metadata": {},
     "output_type": "execute_result"
    }
   ],
   "source": [
    "country_prompt = PromptTemplate(\n",
    "    template=\"\"\"\n",
    "    Guess the name of the country based on the following information: \n",
    "    {information}\n",
    "    Return the name of the country only\n",
    "    \"\"\",\n",
    "    input_variables=[\"information\"],\n",
    ")\n",
    "\n",
    "country_chain = country_prompt | llm | output_parser\n",
    "country_chain.invoke(\n",
    "    {\"information\": \"The country is very famous for its wine in Europe\"}\n",
    ")"
   ]
  },
  {
   "cell_type": "code",
   "execution_count": null,
   "id": "883edd93",
   "metadata": {},
   "outputs": [],
   "source": [
    "from langchain_core.runnables import RunnablePassthrough\n",
    "\n",
    "final_chain = (\n",
    "    {\"information\": RunnablePassthrough()} | {\"country\": country_chain} | capital_chain\n",
    ")"
   ]
  },
  {
   "cell_type": "code",
   "execution_count": null,
   "id": "23f20a34",
   "metadata": {},
   "outputs": [
    {
     "data": {
      "text/plain": [
       "'Rome'"
      ]
     },
     "execution_count": 46,
     "metadata": {},
     "output_type": "execute_result"
    }
   ],
   "source": [
    "# final_chain.invoke({\"information\": \"The country is very famous for its wine in Europe\"})\n",
    "\n",
    "# RunnablePassthrough가 여러개있으면 위 주석친거처럼 딕셔너리로 넘겨줘야함\n",
    "final_chain.invoke(\"The country is very famous for its wine in Europe\")"
   ]
  }
 ],
 "metadata": {
  "kernelspec": {
   "display_name": "langchain-practice",
   "language": "python",
   "name": "langchain-practice"
  },
  "language_info": {
   "codemirror_mode": {
    "name": "ipython",
    "version": 3
   },
   "file_extension": ".py",
   "mimetype": "text/x-python",
   "name": "python",
   "nbconvert_exporter": "python",
   "pygments_lexer": "ipython3",
   "version": "3.13.5"
  }
 },
 "nbformat": 4,
 "nbformat_minor": 5
}
