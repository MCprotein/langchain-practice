{
 "cells": [
  {
   "cell_type": "code",
   "execution_count": 7,
   "id": "36caff3e",
   "metadata": {},
   "outputs": [
    {
     "data": {
      "text/plain": [
       "True"
      ]
     },
     "execution_count": 7,
     "metadata": {},
     "output_type": "execute_result"
    }
   ],
   "source": [
    "from dotenv import load_dotenv\n",
    "\n",
    "load_dotenv()"
   ]
  },
  {
   "cell_type": "code",
   "execution_count": 3,
   "id": "788236b8",
   "metadata": {},
   "outputs": [
    {
     "data": {
      "text/plain": [
       "AIMessage(content='The capital of France is Paris.', additional_kwargs={}, response_metadata={'model': 'llama3.2:1b', 'created_at': '2025-07-30T05:36:11.683935Z', 'done': True, 'done_reason': 'stop', 'total_duration': 17760805750, 'load_duration': 17380301083, 'prompt_eval_count': 32, 'prompt_eval_duration': 305643042, 'eval_count': 8, 'eval_duration': 72046625, 'model_name': 'llama3.2:1b'}, id='run--fe21425a-83e5-4b7b-a210-27148b248de8-0', usage_metadata={'input_tokens': 32, 'output_tokens': 8, 'total_tokens': 40})"
      ]
     },
     "execution_count": 3,
     "metadata": {},
     "output_type": "execute_result"
    }
   ],
   "source": [
    "from langchain_ollama import ChatOllama\n",
    "\n",
    "llm = ChatOllama(model=\"llama3.2:1b\")\n",
    "llm.invoke(\"What is the capital of France?\")\n",
    "\n"
   ]
  },
  {
   "cell_type": "code",
   "execution_count": 4,
   "id": "db978dbc",
   "metadata": {},
   "outputs": [
    {
     "name": "stdout",
     "output_type": "stream",
     "text": [
      "\u001b[2K\u001b[2mResolved \u001b[1m68 packages\u001b[0m \u001b[2min 1.00s\u001b[0m\u001b[0m                                        \u001b[0m\n",
      "\u001b[2K\u001b[37m⠙\u001b[0m \u001b[2mPreparing packages...\u001b[0m (0/7)                                                   \n",
      "\u001b[2K\u001b[1A\u001b[37m⠙\u001b[0m \u001b[2mPreparing packages...\u001b[0m (0/7)--------------\u001b[0m\u001b[0m     0 B/746.46 KiB          \u001b[1A\n",
      "\u001b[2K\u001b[1A\u001b[37m⠙\u001b[0m \u001b[2mPreparing packages...\u001b[0m (0/7)--------------\u001b[0m\u001b[0m     0 B/746.46 KiB          \u001b[1A\n",
      "\u001b[2mtqdm                \u001b[0m \u001b[32m\u001b[2m------------------------------\u001b[0m\u001b[0m     0 B/76.70 KiB\n",
      "\u001b[2K\u001b[2A\u001b[37m⠙\u001b[0m \u001b[2mPreparing packages...\u001b[0m (0/7)--------------\u001b[0m\u001b[0m     0 B/746.46 KiB          \u001b[2A\n",
      "\u001b[2mtqdm                \u001b[0m \u001b[32m\u001b[2m------------------------------\u001b[0m\u001b[0m     0 B/76.70 KiB\n",
      "\u001b[2K\u001b[2A\u001b[37m⠙\u001b[0m \u001b[2mPreparing packages...\u001b[0m (0/7)--------------\u001b[0m\u001b[0m     0 B/746.46 KiB          \u001b[2A\n",
      "\u001b[2mtqdm                \u001b[0m \u001b[32m\u001b[2m------------------------------\u001b[0m\u001b[0m     0 B/76.70 KiB\n",
      "\u001b[2K\u001b[2A\u001b[37m⠙\u001b[0m \u001b[2mPreparing packages...\u001b[0m (0/7)--------------\u001b[0m\u001b[0m     0 B/746.46 KiB          \u001b[2A\n",
      "\u001b[2mlangchain-openai    \u001b[0m \u001b[32m\u001b[2m------------------------------\u001b[0m\u001b[0m     0 B/68.92 KiB\n",
      "\u001b[2mtqdm                \u001b[0m \u001b[32m\u001b[2m------------------------------\u001b[0m\u001b[0m     0 B/76.70 KiB\n",
      "\u001b[2K\u001b[3A\u001b[37m⠙\u001b[0m \u001b[2mPreparing packages...\u001b[0m (0/7)--------------\u001b[0m\u001b[0m     0 B/746.46 KiB          \u001b[3A\n",
      "\u001b[2mlangchain-openai    \u001b[0m \u001b[32m\u001b[2m------------------------------\u001b[0m\u001b[0m     0 B/68.92 KiB\n",
      "\u001b[2mtqdm                \u001b[0m \u001b[32m\u001b[2m------------------------------\u001b[0m\u001b[0m     0 B/76.70 KiB\n",
      "\u001b[2K\u001b[3A\u001b[37m⠙\u001b[0m \u001b[2mPreparing packages...\u001b[0m (0/7)--------------\u001b[0m\u001b[0m 14.92 KiB/746.46 KiB        \u001b[3A\n",
      "\u001b[2mlangchain-openai    \u001b[0m \u001b[32m\u001b[2m------------------------------\u001b[0m\u001b[0m     0 B/68.92 KiB\n",
      "\u001b[2mtqdm                \u001b[0m \u001b[32m------\u001b[2m------------------------\u001b[0m\u001b[0m 14.88 KiB/76.70 KiB\n",
      "\u001b[2K\u001b[3A\u001b[37m⠙\u001b[0m \u001b[2mPreparing packages...\u001b[0m (0/7)--------------\u001b[0m\u001b[0m 14.92 KiB/746.46 KiB        \u001b[3A\n",
      "\u001b[2mlangchain-openai    \u001b[0m \u001b[32m-------\u001b[2m-----------------------\u001b[0m\u001b[0m 14.87 KiB/68.92 KiB\n",
      "\u001b[2mtqdm                \u001b[0m \u001b[32m------\u001b[2m------------------------\u001b[0m\u001b[0m 14.88 KiB/76.70 KiB\n",
      "\u001b[2K\u001b[3A\u001b[37m⠙\u001b[0m \u001b[2mPreparing packages...\u001b[0m (0/7)--------------\u001b[0m\u001b[0m 14.92 KiB/746.46 KiB        \u001b[3A\n",
      "\u001b[2mlangchain-openai    \u001b[0m \u001b[32m-------\u001b[2m-----------------------\u001b[0m\u001b[0m 14.87 KiB/68.92 KiB\n",
      "\u001b[2mtqdm                \u001b[0m \u001b[32m------\u001b[2m------------------------\u001b[0m\u001b[0m 14.88 KiB/76.70 KiB\n",
      "\u001b[2K\u001b[3A\u001b[37m⠙\u001b[0m \u001b[2mPreparing packages...\u001b[0m (0/7)--------------\u001b[0m\u001b[0m 14.92 KiB/746.46 KiB        \u001b[3A\n",
      "\u001b[2mlangchain-openai    \u001b[0m \u001b[32m-------\u001b[2m-----------------------\u001b[0m\u001b[0m 14.87 KiB/68.92 KiB\n",
      "\u001b[2mtqdm                \u001b[0m \u001b[32m------\u001b[2m------------------------\u001b[0m\u001b[0m 14.88 KiB/76.70 KiB\n",
      "\u001b[2K\u001b[3A\u001b[37m⠙\u001b[0m \u001b[2mPreparing packages...\u001b[0m (0/7)--------------\u001b[0m\u001b[0m 14.92 KiB/746.46 KiB        \u001b[3A\n",
      "\u001b[2mlangchain-openai    \u001b[0m \u001b[32m-------\u001b[2m-----------------------\u001b[0m\u001b[0m 14.87 KiB/68.92 KiB\n",
      "\u001b[2mtqdm                \u001b[0m \u001b[32m------\u001b[2m------------------------\u001b[0m\u001b[0m 14.88 KiB/76.70 KiB\n",
      "\u001b[2K\u001b[3A\u001b[37m⠙\u001b[0m \u001b[2mPreparing packages...\u001b[0m (0/7)--------------\u001b[0m\u001b[0m 14.92 KiB/746.46 KiB        \u001b[3A\n",
      "\u001b[2mdistro              \u001b[0m \u001b[32m\u001b[2m------------------------------\u001b[0m\u001b[0m     0 B/19.80 KiB\n",
      "\u001b[2mlangchain-openai    \u001b[0m \u001b[32m-------\u001b[2m-----------------------\u001b[0m\u001b[0m 14.87 KiB/68.92 KiB\n",
      "\u001b[2mtqdm                \u001b[0m \u001b[32m------\u001b[2m------------------------\u001b[0m\u001b[0m 14.88 KiB/76.70 KiB\n",
      "\u001b[2K\u001b[4A\u001b[37m⠙\u001b[0m \u001b[2mPreparing packages...\u001b[0m (0/7)--------------\u001b[0m\u001b[0m 14.92 KiB/746.46 KiB        \u001b[4A\n",
      "\u001b[2mdistro              \u001b[0m \u001b[32m-----------------------\u001b[2m-------\u001b[0m\u001b[0m 14.88 KiB/19.80 KiB\n",
      "\u001b[2mlangchain-openai    \u001b[0m \u001b[32m-------\u001b[2m-----------------------\u001b[0m\u001b[0m 14.87 KiB/68.92 KiB\n",
      "\u001b[2mtqdm                \u001b[0m \u001b[32m------\u001b[2m------------------------\u001b[0m\u001b[0m 14.88 KiB/76.70 KiB\n",
      "\u001b[2K\u001b[4A\u001b[37m⠙\u001b[0m \u001b[2mPreparing packages...\u001b[0m (0/7)--------------\u001b[0m\u001b[0m 14.92 KiB/746.46 KiB        \u001b[4A\n",
      "\u001b[2mdistro              \u001b[0m \u001b[32m-----------------------\u001b[2m-------\u001b[0m\u001b[0m 14.88 KiB/19.80 KiB\n",
      "\u001b[2mlangchain-openai    \u001b[0m \u001b[32m-------\u001b[2m-----------------------\u001b[0m\u001b[0m 14.87 KiB/68.92 KiB\n",
      "\u001b[2mtqdm                \u001b[0m \u001b[32m------\u001b[2m------------------------\u001b[0m\u001b[0m 14.88 KiB/76.70 KiB\n",
      "\u001b[2K\u001b[4A\u001b[37m⠙\u001b[0m \u001b[2mPreparing packages...\u001b[0m (0/7)--------------\u001b[0m\u001b[0m 30.92 KiB/746.46 KiB        \u001b[4A\n",
      "\u001b[2mdistro              \u001b[0m \u001b[32m-----------------------\u001b[2m-------\u001b[0m\u001b[0m 14.88 KiB/19.80 KiB\n",
      "\u001b[2mlangchain-openai    \u001b[0m \u001b[32m-------\u001b[2m-----------------------\u001b[0m\u001b[0m 14.87 KiB/68.92 KiB\n",
      "\u001b[2mtqdm                \u001b[0m \u001b[32m-------------\u001b[2m-----------------\u001b[0m\u001b[0m 30.88 KiB/76.70 KiB\n",
      "\u001b[2K\u001b[4A\u001b[37m⠹\u001b[0m \u001b[2mPreparing packages...\u001b[0m (0/7)--------------\u001b[0m\u001b[0m 30.92 KiB/746.46 KiB        \u001b[4A\n",
      "\u001b[2mdistro              \u001b[0m \u001b[32m-----------------------\u001b[2m-------\u001b[0m\u001b[0m 14.88 KiB/19.80 KiB\n",
      "\u001b[2mlangchain-openai    \u001b[0m \u001b[32m-------\u001b[2m-----------------------\u001b[0m\u001b[0m 14.87 KiB/68.92 KiB\n",
      "\u001b[2mtqdm                \u001b[0m \u001b[32m-------------\u001b[2m-----------------\u001b[0m\u001b[0m 30.88 KiB/76.70 KiB\n",
      "\u001b[2K\u001b[4A\u001b[37m⠹\u001b[0m \u001b[2mPreparing packages...\u001b[0m (0/7)--------------\u001b[0m\u001b[0m 30.92 KiB/746.46 KiB        \u001b[4A\n",
      "\u001b[2mdistro              \u001b[0m \u001b[32m-----------------------\u001b[2m-------\u001b[0m\u001b[0m 14.88 KiB/19.80 KiB\n",
      "\u001b[2mlangchain-openai    \u001b[0m \u001b[32m--------------\u001b[2m----------------\u001b[0m\u001b[0m 30.87 KiB/68.92 KiB\n",
      "\u001b[2mtqdm                \u001b[0m \u001b[32m-------------\u001b[2m-----------------\u001b[0m\u001b[0m 30.88 KiB/76.70 KiB\n",
      "\u001b[2K\u001b[4A\u001b[37m⠹\u001b[0m \u001b[2mPreparing packages...\u001b[0m (0/7)--------------\u001b[0m\u001b[0m 30.92 KiB/746.46 KiB        \u001b[4A\n",
      "\u001b[2mdistro              \u001b[0m \u001b[32m-----------------------\u001b[2m-------\u001b[0m\u001b[0m 14.88 KiB/19.80 KiB\n",
      "\u001b[2mlangchain-openai    \u001b[0m \u001b[32m--------------\u001b[2m----------------\u001b[0m\u001b[0m 30.87 KiB/68.92 KiB\n",
      "\u001b[2mtqdm                \u001b[0m \u001b[32m-------------\u001b[2m-----------------\u001b[0m\u001b[0m 30.88 KiB/76.70 KiB\n",
      "\u001b[2K\u001b[4A\u001b[37m⠹\u001b[0m \u001b[2mPreparing packages...\u001b[0m (0/7)--------------\u001b[0m\u001b[0m 46.92 KiB/746.46 KiB        \u001b[4A\n",
      "\u001b[2mdistro              \u001b[0m \u001b[32m-----------------------\u001b[2m-------\u001b[0m\u001b[0m 14.88 KiB/19.80 KiB\n",
      "\u001b[2mlangchain-openai    \u001b[0m \u001b[32m--------------\u001b[2m----------------\u001b[0m\u001b[0m 30.87 KiB/68.92 KiB\n",
      "\u001b[2mtqdm                \u001b[0m \u001b[32m-------------------\u001b[2m-----------\u001b[0m\u001b[0m 46.88 KiB/76.70 KiB\n",
      "\u001b[2K\u001b[4A\u001b[37m⠹\u001b[0m \u001b[2mPreparing packages...\u001b[0m (0/7)--------------\u001b[0m\u001b[0m 46.92 KiB/746.46 KiB        \u001b[4A\n",
      "\u001b[2mdistro              \u001b[0m \u001b[32m-----------------------\u001b[2m-------\u001b[0m\u001b[0m 14.88 KiB/19.80 KiB\n",
      "\u001b[2mlangchain-openai    \u001b[0m \u001b[32m---------------------\u001b[2m---------\u001b[0m\u001b[0m 46.87 KiB/68.92 KiB\n",
      "\u001b[2mtqdm                \u001b[0m \u001b[32m-------------------\u001b[2m-----------\u001b[0m\u001b[0m 46.88 KiB/76.70 KiB\n",
      "\u001b[2K\u001b[4A\u001b[37m⠹\u001b[0m \u001b[2mPreparing packages...\u001b[0m (0/7)--------------\u001b[0m\u001b[0m 46.92 KiB/746.46 KiB        \u001b[4A\n",
      "\u001b[2mdistro              \u001b[0m \u001b[32m-----------------------\u001b[2m-------\u001b[0m\u001b[0m 14.88 KiB/19.80 KiB\n",
      "\u001b[2mlangchain-openai    \u001b[0m \u001b[32m----------------------------\u001b[2m--\u001b[0m\u001b[0m 62.87 KiB/68.92 KiB\n",
      "\u001b[2mtqdm                \u001b[0m \u001b[32m-------------------\u001b[2m-----------\u001b[0m\u001b[0m 47.54 KiB/76.70 KiB\n",
      "\u001b[2mregex               \u001b[0m \u001b[32m--\u001b[2m----------------------------\u001b[0m\u001b[0m 14.92 KiB/283.41 KiB\n",
      "\u001b[2mjiter               \u001b[0m \u001b[32m--\u001b[2m----------------------------\u001b[0m\u001b[0m 16.00 KiB/311.47 KiB\n",
      "\u001b[2mopenai              \u001b[0m \u001b[32m---\u001b[2m---------------------------\u001b[0m\u001b[0m 62.92 KiB/746.46 KiB\n",
      "\u001b[2K\u001b[7A\u001b[37m⠹\u001b[0m \u001b[2mPreparing packages...\u001b[0m (0/7)--------------\u001b[0m\u001b[0m 16.00 KiB/984.25 KiB        \u001b[7A\n",
      "\u001b[2mdistro              \u001b[0m \u001b[32m------------------------------\u001b[2m\u001b[0m\u001b[0m 19.80 KiB/19.80 KiB\n",
      "\u001b[2mtqdm                \u001b[0m \u001b[32m---------------------------\u001b[2m---\u001b[0m\u001b[0m 68.00 KiB/76.70 KiB\n",
      "\u001b[2mregex               \u001b[0m \u001b[32m--\u001b[2m----------------------------\u001b[0m\u001b[0m 14.92 KiB/283.41 KiB\n",
      "\u001b[2mjiter               \u001b[0m \u001b[32m--\u001b[2m----------------------------\u001b[0m\u001b[0m 16.00 KiB/311.47 KiB\n",
      "\u001b[2mopenai              \u001b[0m \u001b[32m----\u001b[2m--------------------------\u001b[0m\u001b[0m 78.92 KiB/746.46 KiB\n",
      "\u001b[2K\u001b[6A\u001b[37m⠹\u001b[0m \u001b[2mPreparing packages...\u001b[0m (0/7)--------------\u001b[0m\u001b[0m 32.00 KiB/984.25 KiB        \u001b[6A\n",
      "\u001b[2mtqdm                \u001b[0m \u001b[32m---------------------------\u001b[2m---\u001b[0m\u001b[0m 68.00 KiB/76.70 KiB\n",
      "\u001b[2mregex               \u001b[0m \u001b[32m--\u001b[2m----------------------------\u001b[0m\u001b[0m 14.92 KiB/283.41 KiB\n",
      "\u001b[2mjiter               \u001b[0m \u001b[32m--\u001b[2m----------------------------\u001b[0m\u001b[0m 16.00 KiB/311.47 KiB\n",
      "\u001b[2mopenai              \u001b[0m \u001b[32m----\u001b[2m--------------------------\u001b[0m\u001b[0m 78.92 KiB/746.46 KiB\n",
      "\u001b[2K\u001b[5A\u001b[37m⠹\u001b[0m \u001b[2mPreparing packages...\u001b[0m (0/7)--------------\u001b[0m\u001b[0m 32.00 KiB/984.25 KiB        \u001b[5A\n",
      "\u001b[2mtqdm                \u001b[0m \u001b[32m---------------------------\u001b[2m---\u001b[0m\u001b[0m 68.00 KiB/76.70 KiB\n",
      "\u001b[2mregex               \u001b[0m \u001b[32m--\u001b[2m----------------------------\u001b[0m\u001b[0m 14.92 KiB/283.41 KiB\n",
      "\u001b[2mjiter               \u001b[0m \u001b[32m--\u001b[2m----------------------------\u001b[0m\u001b[0m 16.00 KiB/311.47 KiB\n",
      "\u001b[2mopenai              \u001b[0m \u001b[32m----\u001b[2m--------------------------\u001b[0m\u001b[0m 78.92 KiB/746.46 KiB\n",
      "\u001b[2K\u001b[5A\u001b[37m⠹\u001b[0m \u001b[2mPreparing packages...\u001b[0m (0/7)--------------\u001b[0m\u001b[0m 48.00 KiB/984.25 KiB        \u001b[5A\n",
      "\u001b[2mregex               \u001b[0m \u001b[32m----\u001b[2m--------------------------\u001b[0m\u001b[0m 30.92 KiB/283.41 KiB\n",
      "\u001b[2mjiter               \u001b[0m \u001b[32m----\u001b[2m--------------------------\u001b[0m\u001b[0m 32.00 KiB/311.47 KiB\n",
      "\u001b[2mopenai              \u001b[0m \u001b[32m----\u001b[2m--------------------------\u001b[0m\u001b[0m 78.92 KiB/746.46 KiB\n",
      "\u001b[2K\u001b[4A\u001b[37m⠹\u001b[0m \u001b[2mPreparing packages...\u001b[0m (0/7)--------------\u001b[0m\u001b[0m 48.00 KiB/984.25 KiB        \u001b[4A\n",
      "\u001b[2mregex               \u001b[0m \u001b[32m--------\u001b[2m----------------------\u001b[0m\u001b[0m 70.11 KiB/283.41 KiB\n",
      "\u001b[2mjiter               \u001b[0m \u001b[32m--------\u001b[2m----------------------\u001b[0m\u001b[0m 80.00 KiB/311.47 KiB\n",
      "\u001b[2mopenai              \u001b[0m \u001b[32m------\u001b[2m------------------------\u001b[0m\u001b[0m 142.92 KiB/746.46 KiB\n",
      "\u001b[2K\u001b[4A\u001b[37m⠹\u001b[0m \u001b[2mPreparing packages...\u001b[0m (0/7)--------------\u001b[0m\u001b[0m 64.00 KiB/984.25 KiB        \u001b[4A\n",
      "\u001b[2mregex               \u001b[0m \u001b[32m--------------\u001b[2m----------------\u001b[0m\u001b[0m 126.92 KiB/283.41 KiB\n",
      "\u001b[2mjiter               \u001b[0m \u001b[32m------------\u001b[2m------------------\u001b[0m\u001b[0m 118.96 KiB/311.47 KiB\n",
      "\u001b[2mopenai              \u001b[0m \u001b[32m--------\u001b[2m----------------------\u001b[0m\u001b[0m 190.92 KiB/746.46 KiB\n",
      "\u001b[2K\u001b[4A\u001b[37m⠸\u001b[0m \u001b[2mPreparing packages...\u001b[0m (3/7)--------------\u001b[0m\u001b[0m 112.00 KiB/984.25 KiB       \u001b[4A\n",
      "\u001b[2mregex               \u001b[0m \u001b[32m------------------------\u001b[2m------\u001b[0m\u001b[0m 222.92 KiB/283.41 KiB\n",
      "\u001b[2mjiter               \u001b[0m \u001b[32m---------------------\u001b[2m---------\u001b[0m\u001b[0m 208.00 KiB/311.47 KiB\n",
      "\u001b[2mopenai              \u001b[0m \u001b[32m-----------\u001b[2m-------------------\u001b[0m\u001b[0m 270.92 KiB/746.46 KiB\n",
      "\u001b[2K\u001b[4A\u001b[37m⠸\u001b[0m \u001b[2mPreparing packages...\u001b[0m (3/7)--------------\u001b[0m\u001b[0m 230.62 KiB/984.25 KiB       \u001b[4A\n",
      "\u001b[2mregex               \u001b[0m \u001b[32m--------------------------\u001b[2m----\u001b[0m\u001b[0m 245.42 KiB/283.41 KiB\n",
      "\u001b[2mjiter               \u001b[0m \u001b[32m-------------------------\u001b[2m-----\u001b[0m\u001b[0m 256.00 KiB/311.47 KiB\n",
      "\u001b[2mopenai              \u001b[0m \u001b[32m-------------\u001b[2m-----------------\u001b[0m\u001b[0m 302.92 KiB/746.46 KiB\n",
      "\u001b[2K\u001b[4A\u001b[37m⠸\u001b[0m \u001b[2mPreparing packages...\u001b[0m (3/7)--------------\u001b[0m\u001b[0m 240.00 KiB/984.25 KiB       \u001b[4A\n",
      "\u001b[2mjiter               \u001b[0m \u001b[32m----------------------------\u001b[2m--\u001b[0m\u001b[0m 288.00 KiB/311.47 KiB\n",
      "\u001b[2mopenai              \u001b[0m \u001b[32m---------------\u001b[2m---------------\u001b[0m\u001b[0m 350.92 KiB/746.46 KiB\n",
      "\u001b[2K\u001b[3A\u001b[37m⠸\u001b[0m \u001b[2mPreparing packages...\u001b[0m (3/7)--------------\u001b[0m\u001b[0m 304.00 KiB/984.25 KiB       \u001b[3A\n",
      "\u001b[2mopenai              \u001b[0m \u001b[32m---------------\u001b[2m---------------\u001b[0m\u001b[0m 350.92 KiB/746.46 KiB\n",
      "\u001b[2K\u001b[2A\u001b[37m⠸\u001b[0m \u001b[2mPreparing packages...\u001b[0m (3/7)--------------\u001b[0m\u001b[0m 304.00 KiB/984.25 KiB       \u001b[2A\n",
      "\u001b[2mopenai              \u001b[0m \u001b[32m----------------\u001b[2m--------------\u001b[0m\u001b[0m 392.56 KiB/746.46 KiB\n",
      "\u001b[2K\u001b[2A\u001b[37m⠼\u001b[0m \u001b[2mPreparing packages...\u001b[0m (5/7)--------------\u001b[0m\u001b[0m 368.00 KiB/984.25 KiB       \u001b[2A\n",
      "\u001b[2mopenai              \u001b[0m \u001b[32m------------------\u001b[2m------------\u001b[0m\u001b[0m 424.56 KiB/746.46 KiB\n",
      "\u001b[2K\u001b[2A\u001b[37m⠼\u001b[0m \u001b[2mPreparing packages...\u001b[0m (5/7)--------------\u001b[0m\u001b[0m 400.00 KiB/984.25 KiB       \u001b[2A\n",
      "\u001b[2mopenai              \u001b[0m \u001b[32m------------------------\u001b[2m------\u001b[0m\u001b[0m 584.56 KiB/746.46 KiB\n",
      "\u001b[2K\u001b[2A\u001b[37m⠼\u001b[0m \u001b[2mPreparing packages...\u001b[0m (5/7)--------------\u001b[0m\u001b[0m 512.00 KiB/984.25 KiB       \u001b[2A\n",
      "\u001b[2mopenai              \u001b[0m \u001b[32m----------------------------\u001b[2m--\u001b[0m\u001b[0m 680.56 KiB/746.46 KiB\n",
      "\u001b[2K\u001b[2A\u001b[37m⠼\u001b[0m \u001b[2mPreparing packages...\u001b[0m (5/7)\u001b[2m----------\u001b[0m\u001b[0m 624.00 KiB/984.25 KiB       \u001b[2A\n",
      "\u001b[2K\u001b[1A\u001b[37m⠼\u001b[0m \u001b[2mPreparing packages...\u001b[0m (5/7)\u001b[2m----------\u001b[0m\u001b[0m 656.00 KiB/984.25 KiB       \u001b[1A\n",
      "\u001b[2K\u001b[2mPrepared \u001b[1m7 packages\u001b[0m \u001b[2min 770ms\u001b[0m\u001b[0m                                                 \u001b[1A\n",
      "\u001b[2K\u001b[2mInstalled \u001b[1m7 packages\u001b[0m \u001b[2min 11ms\u001b[0m\u001b[0m                                \u001b[0m\n",
      " \u001b[32m+\u001b[39m \u001b[1mdistro\u001b[0m\u001b[2m==1.9.0\u001b[0m\n",
      " \u001b[32m+\u001b[39m \u001b[1mjiter\u001b[0m\u001b[2m==0.10.0\u001b[0m\n",
      " \u001b[32m+\u001b[39m \u001b[1mlangchain-openai\u001b[0m\u001b[2m==0.3.28\u001b[0m\n",
      " \u001b[32m+\u001b[39m \u001b[1mopenai\u001b[0m\u001b[2m==1.97.1\u001b[0m\n",
      " \u001b[32m+\u001b[39m \u001b[1mregex\u001b[0m\u001b[2m==2025.7.31\u001b[0m\n",
      " \u001b[32m+\u001b[39m \u001b[1mtiktoken\u001b[0m\u001b[2m==0.9.0\u001b[0m\n",
      " \u001b[32m+\u001b[39m \u001b[1mtqdm\u001b[0m\u001b[2m==4.67.1\u001b[0m\n"
     ]
    }
   ],
   "source": [
    "!uv add langchain-openai"
   ]
  },
  {
   "cell_type": "code",
   "execution_count": null,
   "id": "78a39dd1",
   "metadata": {},
   "outputs": [
    {
     "data": {
      "text/plain": [
       "AIMessage(content='The capital of France is Paris.', additional_kwargs={'refusal': None}, response_metadata={'token_usage': {'completion_tokens': 7, 'prompt_tokens': 14, 'total_tokens': 21, 'completion_tokens_details': {'accepted_prediction_tokens': 0, 'audio_tokens': 0, 'reasoning_tokens': 0, 'rejected_prediction_tokens': 0}, 'prompt_tokens_details': {'audio_tokens': 0, 'cached_tokens': 0}}, 'model_name': 'gpt-4o-mini-2024-07-18', 'system_fingerprint': 'fp_34a54ae93c', 'id': 'chatcmpl-BytrDbXwYiJ2hqHE53uo4yl9hmVmv', 'service_tier': 'default', 'finish_reason': 'stop', 'logprobs': None}, id='run--16dcb5d3-8681-47b8-9a76-eb0e42bbe4b0-0', usage_metadata={'input_tokens': 14, 'output_tokens': 7, 'total_tokens': 21, 'input_token_details': {'audio': 0, 'cache_read': 0}, 'output_token_details': {'audio': 0, 'reasoning': 0}})"
      ]
     },
     "execution_count": 8,
     "metadata": {},
     "output_type": "execute_result"
    }
   ],
   "source": [
    "from langchain_openai import ChatOpenAI\n",
    "\n",
    "llm = ChatOpenAI(model=\"gpt-4o-mini\")\n",
    "llm.invoke(\"What is the capital of France?\") # OPENAI_API_KEY 필요"
   ]
  }
 ],
 "metadata": {
  "kernelspec": {
   "display_name": "langchain-practice",
   "language": "python",
   "name": "langchain-practice"
  },
  "language_info": {
   "codemirror_mode": {
    "name": "ipython",
    "version": 3
   },
   "file_extension": ".py",
   "mimetype": "text/x-python",
   "name": "python",
   "nbconvert_exporter": "python",
   "pygments_lexer": "ipython3",
   "version": "3.13.5"
  }
 },
 "nbformat": 4,
 "nbformat_minor": 5
}
