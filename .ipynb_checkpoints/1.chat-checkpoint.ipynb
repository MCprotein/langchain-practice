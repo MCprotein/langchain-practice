{
 "cells": [
  {
   "cell_type": "code",
   "execution_count": 3,
   "id": "d2d0178f",
   "metadata": {},
   "outputs": [
    {
     "name": "stdout",
     "output_type": "stream",
     "text": [
      "\u001b[36m\u001b[1mhint\u001b[0m\u001b[39m\u001b[1m:\u001b[0m `ipykernel` is in the `dev` group (try: `\u001b[1muv remove ipykernel --group dev\u001b[0m`)\n",
      "\u001b[1m\u001b[31merror\u001b[39m\u001b[0m: The dependency `ipykernel` could not be found in `project.dependencies`\n",
      "\u001b[2mResolved \u001b[1m61 packages\u001b[0m \u001b[2min 0.53ms\u001b[0m\u001b[0m\n",
      "\u001b[2mAudited \u001b[1m56 packages\u001b[0m \u001b[2min 0.01ms\u001b[0m\u001b[0m\n",
      "Installed kernelspec langchain-practice in /Users/sys/Library/Jupyter/kernels/langchain-practice\n"
     ]
    }
   ],
   "source": [
    "!uv remove ipykernel\n",
    "!uv add --dev ipykernel\n",
    "!uv run python -m ipykernel install --user --env VIRTUAL_ENV $(pwd)/.venv --name=langchain-practice"
   ]
  },
  {
   "cell_type": "code",
   "execution_count": null,
   "id": "788236b8",
   "metadata": {},
   "outputs": [],
   "source": [
    "from langchain_ollama import ChatOllama\n",
    "\n",
    "print(\"모델 초기화 중\")\n",
    "llm = ChatOllama(model=\"deepseek-r1:1.5b\")\n",
    "print(\"질문 처리 중\")\n",
    "response = llm.invoke(\"What is the capital of France?\")\n",
    "print(\"질문 처리 완료\")\n",
    "print(response)\n"
   ]
  }
 ],
 "metadata": {
  "kernelspec": {
   "display_name": ".venv",
   "language": "python",
   "name": "python3"
  },
  "language_info": {
   "codemirror_mode": {
    "name": "ipython",
    "version": 3
   },
   "file_extension": ".py",
   "mimetype": "text/x-python",
   "name": "python",
   "nbconvert_exporter": "python",
   "pygments_lexer": "ipython3",
   "version": "3.13.5"
  }
 },
 "nbformat": 4,
 "nbformat_minor": 5
}
