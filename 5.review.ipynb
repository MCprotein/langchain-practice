{
 "cells": [
  {
   "cell_type": "code",
   "execution_count": 1,
   "id": "f6c81ad3",
   "metadata": {},
   "outputs": [],
   "source": [
    "from langchain_ollama import ChatOllama\n",
    "\n",
    "llm = ChatOllama(model=\"llama3.2:1b\")"
   ]
  },
  {
   "cell_type": "code",
   "execution_count": 12,
   "id": "d325eecf",
   "metadata": {},
   "outputs": [],
   "source": [
    "# 음식 이름 찾기\n",
    "\n",
    "from langchain_core.output_parsers import StrOutputParser\n",
    "from langchain_core.prompts import PromptTemplate\n",
    "\n",
    "food_prompt = PromptTemplate(\n",
    "    template=\"\"\"what is one of the most popular food in {country}?\n",
    "    Please return the name of the food only\"\"\",\n",
    "    input_variables=[\"country\"],\n",
    ")\n",
    "\n",
    "food_chain = food_prompt | llm | StrOutputParser()"
   ]
  },
  {
   "cell_type": "code",
   "execution_count": 13,
   "id": "c194c370",
   "metadata": {},
   "outputs": [
    {
     "data": {
      "text/plain": [
       "'Bibimbap.'"
      ]
     },
     "execution_count": 13,
     "metadata": {},
     "output_type": "execute_result"
    }
   ],
   "source": [
    "food_chain.invoke({\"country\": \"South Korea\"})"
   ]
  },
  {
   "cell_type": "code",
   "execution_count": 22,
   "id": "416b3060",
   "metadata": {},
   "outputs": [],
   "source": [
    "from langchain_core.prompts import ChatPromptTemplate\n",
    "\n",
    "\n",
    "recipe_prompt = ChatPromptTemplate.from_messages(\n",
    "    [\n",
    "        (\n",
    "            \"system\",\n",
    "            \"Provide the recipe of the food that the user wants. Please return the recipe only as a numbered list.\",\n",
    "        ),\n",
    "        (\"human\", \"Can you give me the recipe for making {food}?\"),\n",
    "    ]\n",
    ")\n",
    "\n",
    "recipe_chain = recipe_prompt | llm | StrOutputParser()"
   ]
  },
  {
   "cell_type": "code",
   "execution_count": 23,
   "id": "e55a34a3",
   "metadata": {},
   "outputs": [
    {
     "data": {
      "text/plain": [
       "\"Here's the traditional Korean recipe for Bibimbap:\\n\\n**Ingredients:**\\n\\n* 1 cup of white or brown rice\\n* 1/2 cup of diced zucchini\\n* 1/2 cup of diced carrots\\n* 1/4 cup of diced green onions (scallions)\\n* 1/4 cup of toasted sesame seeds\\n* 2 eggs, fried sunny-side up\\n* 1/4 cup of crispy garlic (optional)\\n* 1 tablespoon of Gochujang (Korean chili paste)\\n* 1 tablespoon of soy sauce\\n* 1 tablespoon of rice vinegar\\n* Salt and black pepper to taste\\n* Vegetable oil for frying\\n\\n**Instructions:**\\n\\n1. Cook the rice according to package instructions.\\n2. In a separate pan, heat 1 tablespoon of vegetable oil over medium heat. Add the zucchini and carrots and cook until they're tender-crisp, about 3-4 minutes.\\n3. In a large bowl, combine the cooked rice, zucchini and carrot mixture, green onions, and toasted sesame seeds.\\n4. Fry an egg sunny-side up in a separate pan with 1 tablespoon of vegetable oil.\\n5. To assemble the Bibimbap, place a scoop of rice at the bottom of a bowl. Arrange the fried egg on top of the rice.\\n6. Drizzle Gochujang, soy sauce, and rice vinegar over the egg.\\n7. Add crispy garlic (if using) and sprinkle with black pepper.\\n8. Serve immediately and enjoy!\\n\\n**Note:** You can customize your Bibimbap to your taste by adding other ingredients such as diced chicken, boiled eggs, or kimchi.\""
      ]
     },
     "execution_count": 23,
     "metadata": {},
     "output_type": "execute_result"
    }
   ],
   "source": [
    "recipe_chain.invoke({\"food\": \"bibimbap\"})"
   ]
  },
  {
   "cell_type": "code",
   "execution_count": 24,
   "id": "48de6e07",
   "metadata": {},
   "outputs": [],
   "source": [
    "final_chain = {\"food\": food_chain} | recipe_chain"
   ]
  },
  {
   "cell_type": "code",
   "execution_count": null,
   "id": "4a3ac4bd",
   "metadata": {},
   "outputs": [],
   "source": [
    "final_chain.invoke({\"country\": \"South Korea\"})"
   ]
  }
 ],
 "metadata": {
  "kernelspec": {
   "display_name": "langchain-practice",
   "language": "python",
   "name": "langchain-practice"
  },
  "language_info": {
   "codemirror_mode": {
    "name": "ipython",
    "version": 3
   },
   "file_extension": ".py",
   "mimetype": "text/x-python",
   "name": "python",
   "nbconvert_exporter": "python",
   "pygments_lexer": "ipython3",
   "version": "3.13.5"
  }
 },
 "nbformat": 4,
 "nbformat_minor": 5
}
