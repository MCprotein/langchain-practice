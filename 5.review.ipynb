{
 "cells": [
  {
   "cell_type": "code",
   "execution_count": 1,
   "id": "f6c81ad3",
   "metadata": {},
   "outputs": [],
   "source": [
    "from langchain_ollama import ChatOllama\n",
    "\n",
    "llm = ChatOllama(model=\"llama3.2:1b\")"
   ]
  },
  {
   "cell_type": "code",
   "execution_count": 12,
   "id": "d325eecf",
   "metadata": {},
   "outputs": [],
   "source": [
    "# 음식 이름 찾기\n",
    "\n",
    "from langchain_core.output_parsers import StrOutputParser\n",
    "from langchain_core.prompts import PromptTemplate\n",
    "\n",
    "food_prompt = PromptTemplate(\n",
    "    template=\"\"\"what is one of the most popular food in {country}?\n",
    "    Please return the name of the food only\"\"\",\n",
    "    input_variables=[\"country\"],\n",
    ")\n",
    "\n",
    "food_chain = food_prompt | llm | StrOutputParser()"
   ]
  },
  {
   "cell_type": "code",
   "execution_count": 13,
   "id": "c194c370",
   "metadata": {},
   "outputs": [
    {
     "data": {
      "text/plain": [
       "'Bibimbap.'"
      ]
     },
     "execution_count": 13,
     "metadata": {},
     "output_type": "execute_result"
    }
   ],
   "source": [
    "food_chain.invoke({\"country\": \"South Korea\"})"
   ]
  },
  {
   "cell_type": "code",
   "execution_count": 22,
   "id": "416b3060",
   "metadata": {},
   "outputs": [],
   "source": [
    "from langchain_core.prompts import ChatPromptTemplate\n",
    "\n",
    "\n",
    "recipe_prompt = ChatPromptTemplate.from_messages(\n",
    "    [\n",
    "        (\n",
    "            \"system\",\n",
    "            \"Provide the recipe of the food that the user wants. Please return the recipe only as a numbered list.\",\n",
    "        ),\n",
    "        (\"human\", \"Can you give me the recipe for making {food}?\"),\n",
    "    ]\n",
    ")\n",
    "\n",
    "recipe_chain = recipe_prompt | llm | StrOutputParser()"
   ]
  },
  {
   "cell_type": "code",
   "execution_count": 23,
   "id": "e55a34a3",
   "metadata": {},
   "outputs": [
    {
     "data": {
      "text/plain": [
       "\"Here's the traditional Korean recipe for Bibimbap:\\n\\n**Ingredients:**\\n\\n* 1 cup of white or brown rice\\n* 1/2 cup of diced zucchini\\n* 1/2 cup of diced carrots\\n* 1/4 cup of diced green onions (scallions)\\n* 1/4 cup of toasted sesame seeds\\n* 2 eggs, fried sunny-side up\\n* 1/4 cup of crispy garlic (optional)\\n* 1 tablespoon of Gochujang (Korean chili paste)\\n* 1 tablespoon of soy sauce\\n* 1 tablespoon of rice vinegar\\n* Salt and black pepper to taste\\n* Vegetable oil for frying\\n\\n**Instructions:**\\n\\n1. Cook the rice according to package instructions.\\n2. In a separate pan, heat 1 tablespoon of vegetable oil over medium heat. Add the zucchini and carrots and cook until they're tender-crisp, about 3-4 minutes.\\n3. In a large bowl, combine the cooked rice, zucchini and carrot mixture, green onions, and toasted sesame seeds.\\n4. Fry an egg sunny-side up in a separate pan with 1 tablespoon of vegetable oil.\\n5. To assemble the Bibimbap, place a scoop of rice at the bottom of a bowl. Arrange the fried egg on top of the rice.\\n6. Drizzle Gochujang, soy sauce, and rice vinegar over the egg.\\n7. Add crispy garlic (if using) and sprinkle with black pepper.\\n8. Serve immediately and enjoy!\\n\\n**Note:** You can customize your Bibimbap to your taste by adding other ingredients such as diced chicken, boiled eggs, or kimchi.\""
      ]
     },
     "execution_count": 23,
     "metadata": {},
     "output_type": "execute_result"
    }
   ],
   "source": [
    "recipe_chain.invoke({\"food\": \"bibimbap\"})"
   ]
  },
  {
   "cell_type": "code",
   "execution_count": 24,
   "id": "48de6e07",
   "metadata": {},
   "outputs": [],
   "source": [
    "final_chain = {\"food\": food_chain} | recipe_chain"
   ]
  },
  {
   "cell_type": "code",
   "execution_count": 26,
   "id": "4a3ac4bd",
   "metadata": {},
   "outputs": [
    {
     "data": {
      "text/plain": [
       "'Here is the recipe for traditional French croissants:\\n\\n**Dough:**\\n\\n1. 1 1/2 cups warm milk (105°F to 115°F)\\n2. 1/4 cup granulated sugar\\n3. 2 teaspoons active dry yeast\\n4. 3 1/2 cups all-purpose flour\\n5. 1 teaspoon salt\\n6. 1/4 cup unsalted butter, melted\\n\\n**Laminating the Dough:**\\n\\n7. 1 egg, beaten (for egg wash)\\n8. 1 tablespoon granulated sugar (for dusting)\\n\\n**Assembly and Proofing:**\\n\\n9. Roll out the dough to a large rectangle, about 1/4-inch thick.\\n10. Spread the softened butter evenly over the dough, leaving a 1-inch border on all sides.\\n11. Fold the rectangle in half lengthwise, like a letter.\\n12. Rotate the dough 90°, so the folds are facing you.\\n13. Roll out the dough to a large rectangle again, about 1/4-inch thick.\\n\\n**Cutting and Proofing:**\\n\\n14. Cut the dough into long, thin triangles.\\n15. Curve each triangle into a croissant shape, with the wide end toward you.\\n16. Place the croissants on a baking sheet lined with parchment paper, leaving about 1 inch of space between each one.\\n\\n**Baking:**\\n\\n17. Brush the tops of the croissants with the beaten egg for golden glaze.\\n18. Bake in a preheated oven at 400°F (200°C) for 15-20 minutes, or until golden brown.\\n\\n**Dusting and Serving:**\\n\\n19. Allow the croissants to cool on a wire rack for 10-15 minutes before serving.\\n20. Dust with granulated sugar and serve warm.\\n\\nNote: This recipe requires patience and time to allow the dough to proof and laminate properly.'"
      ]
     },
     "execution_count": 26,
     "metadata": {},
     "output_type": "execute_result"
    }
   ],
   "source": [
    "final_chain.invoke({\"country\": \"France\"})"
   ]
  }
 ],
 "metadata": {
  "kernelspec": {
   "display_name": "langchain-practice",
   "language": "python",
   "name": "langchain-practice"
  },
  "language_info": {
   "codemirror_mode": {
    "name": "ipython",
    "version": 3
   },
   "file_extension": ".py",
   "mimetype": "text/x-python",
   "name": "python",
   "nbconvert_exporter": "python",
   "pygments_lexer": "ipython3",
   "version": "3.13.5"
  }
 },
 "nbformat": 4,
 "nbformat_minor": 5
}
